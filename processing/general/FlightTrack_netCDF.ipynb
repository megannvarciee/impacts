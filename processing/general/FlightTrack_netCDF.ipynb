{
 "cells": [
  {
   "cell_type": "code",
   "execution_count": null,
   "metadata": {},
   "outputs": [],
   "source": [
    "# Import Packages \n",
    "\n",
    "import pandas as pd\n",
    "import xarray as xr\n",
    "import netCDF4 \n",
    "import time \n",
    "import numpy as np \n",
    "from netCDF4 import Dataset\n",
    "from time import mktime\n",
    "from datetime import datetime"
   ]
  },
  {
   "cell_type": "code",
   "execution_count": null,
   "metadata": {},
   "outputs": [],
   "source": [
    "# Download IWG1 flight data file: https://asp-archive.arc.nasa.gov/IMPACTS/ \n",
    "\n",
    "# P-3 : N426NA\n",
    "# ER-2 : N809NA\n",
    "\n",
    "# Open File \n",
    "\n",
    "filename = 'IWG1.19Jan2020-0008.txt'\n",
    "\n",
    "# Assign column names based on IWG1 ASCII Packet Definitions: \n",
    "# https://archive.eol.ucar.edu/raf/Software/iwgadts/IWG1_Def.html\n",
    "\n",
    "colnames=['IWG1', 'Date_Time', 'Lat', 'Lon', 'Alt', 'WGS_84_Alt', 'Press_Alt', 'Radar_Alt', \n",
    "         'Grnd_Spd', 'TAS', 'Indicated_Airspeed', 'Mach_Number', 'Vert_Velocity', 'True_Hdg', \n",
    "         'Track','Drift', 'Pitch', 'Roll', 'Side_slip', 'Angle_of_Attack', 'Temp', 'Dewp', 'Total_Temp',\n",
    "         'Static_Press', 'Dynamic_Press', 'Cabin_Pressure', 'Wind_Speed', 'Wind_Dir', 'Vert_Wind_Spd', 'Solar_Zenith',\n",
    "         'Sun_Elev_AC', 'Sun_Az_Grd', 'Sun_Az_AC'] \n",
    "\n",
    "flight_df = pd.read_csv(filename, names = colnames, header = None)\n",
    "\n",
    "# Convert Date / Time to datetime format \n",
    "\n",
    "flight_df['Date_Time'] = pd.to_datetime(flight_df['Date_Time'])\n",
    "flight_df['Date'] = flight_df['Date_Time'].dt.date\n",
    "flight_df['Time'] = flight_df['Date_Time'].dt.time\n",
    "\n",
    "# Drop all unnecessary columns \n",
    "\n",
    "flight_df.drop(['IWG1'], inplace = True, axis = 1)\n",
    "flight_df.drop(['WGS_84_Alt'], inplace = True, axis = 1) \n",
    "flight_df.drop(['Press_Alt'], inplace = True, axis = 1)\n",
    "flight_df.drop(['Radar_Alt'], inplace = True, axis = 1)\n",
    "flight_df.drop(['Grnd_Spd'], inplace = True, axis = 1)\n",
    "flight_df.drop(['Indicated_Airspeed'], inplace = True, axis = 1)\n",
    "flight_df.drop(['Mach_Number'], inplace = True, axis = 1)\n",
    "flight_df.drop(['Vert_Velocity'], inplace = True, axis = 1)\n",
    "flight_df.drop(['True_Hdg'], inplace = True, axis = 1)\n",
    "flight_df.drop(['Track'], inplace = True, axis = 1)\n",
    "flight_df.drop(['Drift'], inplace = True, axis = 1)\n",
    "flight_df.drop(['Pitch'], inplace = True, axis = 1)\n",
    "flight_df.drop(['Roll'], inplace = True, axis = 1)\n",
    "flight_df.drop(['Side_slip'], inplace = True, axis = 1)\n",
    "flight_df.drop(['Angle_of_Attack'], inplace = True, axis = 1)\n",
    "flight_df.drop(['Dynamic_Press'], inplace = True, axis = 1)\n",
    "flight_df.drop(['Cabin_Pressure'], inplace = True, axis = 1)\n",
    "flight_df.drop(['Wind_Speed'], inplace = True, axis = 1)\n",
    "flight_df.drop(['Wind_Dir'], inplace = True, axis = 1)\n",
    "flight_df.drop(['Vert_Wind_Spd'], inplace = True, axis = 1)\n",
    "flight_df.drop(['Solar_Zenith'], inplace = True, axis = 1)\n",
    "flight_df.drop(['Sun_Elev_AC'], inplace = True, axis = 1)\n",
    "flight_df.drop(['Sun_Az_Grd'], inplace = True, axis = 1)\n",
    "flight_df.drop(['Sun_Az_AC'], inplace = True, axis = 1)"
   ]
  },
  {
   "cell_type": "code",
   "execution_count": null,
   "metadata": {},
   "outputs": [],
   "source": [
    "# Extract Date & Time \n",
    "\n",
    "new_date = flight_df['Date'].apply(lambda x: x.strftime('%Y%m%d'))\n",
    "new_time = flight_df['Time'].apply(lambda y: y.strftime('%H%M%S'))\n",
    "flight_df['Date'] = new_date\n",
    "flight_df['Time'] = new_time"
   ]
  },
  {
   "cell_type": "code",
   "execution_count": null,
   "metadata": {},
   "outputs": [],
   "source": [
    "# Set date/time as index (this makes it a dimension when converted to xarray)\n",
    "\n",
    "flight_df = flight_df.set_index('Date_Time')\n",
    "\n",
    "flight_df.head()"
   ]
  },
  {
   "cell_type": "code",
   "execution_count": null,
   "metadata": {},
   "outputs": [],
   "source": [
    "# Convert pandas dataframe to xarray \n",
    "\n",
    "flight_array = flight_df.to_xarray()\n",
    "flight_array['Date'] = flight_array['Date'].astype('float64')\n",
    "flight_array['Time'] = flight_array['Time'].astype('float64')\n",
    "flight_array"
   ]
  },
  {
   "cell_type": "code",
   "execution_count": null,
   "metadata": {},
   "outputs": [],
   "source": [
    "# Convert array to netcdf (title based on research flight #)\n",
    "\n",
    "flight_array.to_netcdf('RF01_flight.nc')"
   ]
  },
  {
   "cell_type": "code",
   "execution_count": null,
   "metadata": {},
   "outputs": [],
   "source": [
    "# Check to make sure netCDF works / is in proper format \n",
    "\n",
    "flight_data = xr.open_dataset('RF01_flight.nc')\n",
    "flight_data"
   ]
  },
  {
   "cell_type": "code",
   "execution_count": null,
   "metadata": {},
   "outputs": [],
   "source": []
  },
  {
   "cell_type": "code",
   "execution_count": null,
   "metadata": {},
   "outputs": [],
   "source": []
  }
 ],
 "metadata": {
  "kernelspec": {
   "display_name": "Python 3",
   "language": "python",
   "name": "python3"
  },
  "language_info": {
   "codemirror_mode": {
    "name": "ipython",
    "version": 3
   },
   "file_extension": ".py",
   "mimetype": "text/x-python",
   "name": "python",
   "nbconvert_exporter": "python",
   "pygments_lexer": "ipython3",
   "version": "3.7.0"
  }
 },
 "nbformat": 4,
 "nbformat_minor": 2
}
